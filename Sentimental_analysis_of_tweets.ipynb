{
  "cells": [
    {
      "cell_type": "markdown",
      "metadata": {
        "id": "view-in-github",
        "colab_type": "text"
      },
      "source": [
        "<a href=\"https://colab.research.google.com/github/Sem-Enyo/Sentimental-analysis-of-tweets/blob/main/Sentimental_analysis_of_tweets.ipynb\" target=\"_parent\"><img src=\"https://colab.research.google.com/assets/colab-badge.svg\" alt=\"Open In Colab\"/></a>"
      ]
    },
    {
      "cell_type": "code",
      "execution_count": null,
      "metadata": {
        "id": "R4-WT0IQHdDl"
      },
      "outputs": [],
      "source": [
        "!pip install snscrape"
      ]
    },
    {
      "cell_type": "code",
      "execution_count": 4,
      "metadata": {
        "id": "siOkXGJAHVdI"
      },
      "outputs": [],
      "source": [
        "import snscrape.modules.twitter as sntwitter\n",
        "import pandas as pd"
      ]
    },
    {
      "cell_type": "code",
      "source": [
        "!pip install transformers"
      ],
      "metadata": {
        "id": "eZaMXCttdyaD"
      },
      "execution_count": null,
      "outputs": []
    },
    {
      "cell_type": "code",
      "source": [
        "!pip install scipy"
      ],
      "metadata": {
        "id": "YP-TO95Ld82r"
      },
      "execution_count": null,
      "outputs": []
    },
    {
      "cell_type": "code",
      "execution_count": null,
      "metadata": {
        "id": "1gbtko6hHovr"
      },
      "outputs": [],
      "source": [
        "#Extracting tweets that include 'Graham Potter' btween 29 August and 11th Sepetember \n",
        "\n",
        "query = \"Graham Potter lang:en until:2022-09-11 since:2022-08-29\"\n",
        "tweets = []\n",
        "limit = 100000\n",
        "for tweet in sntwitter.TwitterSearchScraper(query).get_items():\n",
        "  if len(tweets) == limit:\n",
        "      break\n",
        "  else:\n",
        "    tweets.append([tweet.date, tweet.username, tweet.content])\n",
        "\n",
        "df = pd.DataFrame(tweets, columns=['Date', 'User', 'Tweet'])\n",
        "print(df.head())\n",
        "\n",
        "df.to_csv('tweets.csv')\n"
      ]
    },
    {
      "cell_type": "code",
      "source": [
        "df['Label']=''\n",
        "df['Score']=''\n",
        "\n"
      ],
      "metadata": {
        "id": "Qh4BjKGCfj7f"
      },
      "execution_count": 3,
      "outputs": []
    },
    {
      "cell_type": "code",
      "source": [
        "#In as much as out limit was 100000 tweets, the total tweets extracted was 48458 tweets\n",
        "df.tail()"
      ],
      "metadata": {
        "id": "WhRHA_os0Y-T"
      },
      "execution_count": null,
      "outputs": []
    },
    {
      "cell_type": "code",
      "source": [
        "import datetime\n",
        "from datetime import datetime"
      ],
      "metadata": {
        "id": "hmnKWe9Bw3U5"
      },
      "execution_count": 21,
      "outputs": []
    },
    {
      "cell_type": "code",
      "source": [
        "#Running the converted date so as to extract just the date without the time\n",
        "\n",
        "df['New_Date']=pd.to_datetime(df['Date'],format=\"%Y-%m-%d %H:%M:%S\")\n",
        "df['New_Date'] = [d.date() for d in df['New_Date']]\n",
        "df.head()"
      ],
      "metadata": {
        "id": "Y31gou1RxDHH"
      },
      "execution_count": null,
      "outputs": []
    },
    {
      "cell_type": "code",
      "source": [
        "del df['Date']\n",
        "df.tail()"
      ],
      "metadata": {
        "id": "QozjnGMaxLKk"
      },
      "execution_count": null,
      "outputs": []
    },
    {
      "cell_type": "code",
      "source": [
        "from transformers import AutoTokenizer, AutoModelForSequenceClassification\n",
        "from scipy.special import softmax"
      ],
      "metadata": {
        "colab": {
          "base_uri": "https://localhost:8080/",
          "height": 104,
          "referenced_widgets": [
            "f50376a01c10426e8c7218b184ce2031",
            "3fbc614ba3c2427ab0d25e1d98d789c1",
            "1c77270226bc42c5b46d9e17614ade70",
            "2e84f7163cc940e18015881a354ff3ca",
            "caf6527df78341c4946432f1f236b39f",
            "4204ee00957746b5b0bb1373d60ac3b4",
            "1b7d5a7e6fa14a3896edd9187d670aee",
            "da8f87a87f9d43c7ad920e9a4010008f",
            "9af67b9e128e4bbeafd020ef0c2c6d93",
            "ebce37a0be7648e496c01bde5786fb5b",
            "aedbf3e9e5a74c6c82c98db80fbf9cfa"
          ]
        },
        "id": "CtCTs6qxgG6O",
        "outputId": "7564c7ae-a7b7-4cbe-ee1b-95a57bde98ae"
      },
      "execution_count": 10,
      "outputs": [
        {
          "output_type": "stream",
          "name": "stderr",
          "text": [
            "The cache for model files in Transformers v4.22.0 has been updated. Migrating your old cache. This is a one-time only operation. You can interrupt this and resume the migration later on by calling `transformers.utils.move_cache()`.\n"
          ]
        },
        {
          "output_type": "stream",
          "name": "stdout",
          "text": [
            "Moving 0 files to the new cache system\n"
          ]
        },
        {
          "output_type": "display_data",
          "data": {
            "text/plain": [
              "0it [00:00, ?it/s]"
            ],
            "application/vnd.jupyter.widget-view+json": {
              "version_major": 2,
              "version_minor": 0,
              "model_id": "f50376a01c10426e8c7218b184ce2031"
            }
          },
          "metadata": {}
        }
      ]
    },
    {
      "cell_type": "code",
      "source": [
        "roberta = \"cardiffnlp/twitter-roberta-base-sentiment\"\n",
        "\n",
        "model = AutoModelForSequenceClassification.from_pretrained(roberta)\n",
        "tokenizer = AutoTokenizer.from_pretrained(roberta)\n",
        "\n",
        "labels = ['Negative', 'Neutral', 'Positive']\n"
      ],
      "metadata": {
        "id": "3-x0BDjykm_R"
      },
      "execution_count": null,
      "outputs": []
    },
    {
      "cell_type": "code",
      "execution_count": null,
      "metadata": {
        "id": "mCUNuy23Qsol"
      },
      "outputs": [],
      "source": [
        "#Iterating throught each tweet to detrmine what is a username and a url\n",
        "for x in range(len(df)):\n",
        "  tweet = df['Tweet'][x]\n",
        "  \n",
        "  tweet_words = []\n",
        "\n",
        "  for word in tweet.split(' '):\n",
        "    if word.startswith('@') and len(word) > 1:\n",
        "        word = '@user'\n",
        "\n",
        "    elif word.startswith('http'):\n",
        "        word = \"http\"\n",
        "    tweet_words.append(word)\n",
        "\n",
        "    tweet_proc = \" \".join(tweet_words)\n",
        "    df['Tweet'][x]=tweet_proc\n",
        "\n",
        "  # sentiment analysis on each tweet\n",
        "  encoded_tweet = tokenizer(tweet_proc, return_tensors='pt')\n",
        "  \n",
        "  output = model(**encoded_tweet)\n",
        "\n",
        "  scores = output[0][0].detach().numpy()\n",
        "  scores = softmax(scores)\n",
        "  \n",
        "  # saving the hihest score for each tweet in the dataframe along with its label\n",
        "  max_scores = 0\n",
        "  for i in range(len(scores)):\n",
        "    if scores[i]>max_scores:\n",
        "      max_scores= scores[i]\n",
        "      label = labels[i]\n",
        "  df['Label'][x]=label\n",
        "  df['Score'][x]=max_scores  \n",
        "    \n"
      ]
    },
    {
      "cell_type": "code",
      "source": [
        "df['Label'].describe()"
      ],
      "metadata": {
        "id": "IP_DReZR3z3w"
      },
      "execution_count": null,
      "outputs": []
    },
    {
      "cell_type": "code",
      "source": [
        "#This was to check for any null values\n",
        "df.info()"
      ],
      "metadata": {
        "id": "b9donlg2jPr-"
      },
      "execution_count": null,
      "outputs": []
    },
    {
      "cell_type": "code",
      "source": [
        "#Finally saving the dataframe as a csv file to be create a visualisation in tableau\n",
        "df.to_csv('tweets_fin.csv')"
      ],
      "metadata": {
        "id": "2UxdFUF3_6vQ"
      },
      "execution_count": null,
      "outputs": []
    },
    {
      "cell_type": "code",
      "source": [
        "#Project aided by tutorials from Mehranshakarami on youtube"
      ],
      "metadata": {
        "id": "RjpeNUEVD-BE"
      },
      "execution_count": null,
      "outputs": []
    }
  ],
  "metadata": {
    "colab": {
      "provenance": [],
      "authorship_tag": "ABX9TyPaZAGVD0wb/oRnKWmVo/Ij",
      "include_colab_link": true
    },
    "kernelspec": {
      "display_name": "Python 3",
      "name": "python3"
    },
    "language_info": {
      "name": "python"
    },
    "widgets": {
      "application/vnd.jupyter.widget-state+json": {
        "f50376a01c10426e8c7218b184ce2031": {
          "model_module": "@jupyter-widgets/controls",
          "model_name": "HBoxModel",
          "model_module_version": "1.5.0",
          "state": {
            "_dom_classes": [],
            "_model_module": "@jupyter-widgets/controls",
            "_model_module_version": "1.5.0",
            "_model_name": "HBoxModel",
            "_view_count": null,
            "_view_module": "@jupyter-widgets/controls",
            "_view_module_version": "1.5.0",
            "_view_name": "HBoxView",
            "box_style": "",
            "children": [
              "IPY_MODEL_3fbc614ba3c2427ab0d25e1d98d789c1",
              "IPY_MODEL_1c77270226bc42c5b46d9e17614ade70",
              "IPY_MODEL_2e84f7163cc940e18015881a354ff3ca"
            ],
            "layout": "IPY_MODEL_caf6527df78341c4946432f1f236b39f"
          }
        },
        "3fbc614ba3c2427ab0d25e1d98d789c1": {
          "model_module": "@jupyter-widgets/controls",
          "model_name": "HTMLModel",
          "model_module_version": "1.5.0",
          "state": {
            "_dom_classes": [],
            "_model_module": "@jupyter-widgets/controls",
            "_model_module_version": "1.5.0",
            "_model_name": "HTMLModel",
            "_view_count": null,
            "_view_module": "@jupyter-widgets/controls",
            "_view_module_version": "1.5.0",
            "_view_name": "HTMLView",
            "description": "",
            "description_tooltip": null,
            "layout": "IPY_MODEL_4204ee00957746b5b0bb1373d60ac3b4",
            "placeholder": "​",
            "style": "IPY_MODEL_1b7d5a7e6fa14a3896edd9187d670aee",
            "value": ""
          }
        },
        "1c77270226bc42c5b46d9e17614ade70": {
          "model_module": "@jupyter-widgets/controls",
          "model_name": "FloatProgressModel",
          "model_module_version": "1.5.0",
          "state": {
            "_dom_classes": [],
            "_model_module": "@jupyter-widgets/controls",
            "_model_module_version": "1.5.0",
            "_model_name": "FloatProgressModel",
            "_view_count": null,
            "_view_module": "@jupyter-widgets/controls",
            "_view_module_version": "1.5.0",
            "_view_name": "ProgressView",
            "bar_style": "success",
            "description": "",
            "description_tooltip": null,
            "layout": "IPY_MODEL_da8f87a87f9d43c7ad920e9a4010008f",
            "max": 1,
            "min": 0,
            "orientation": "horizontal",
            "style": "IPY_MODEL_9af67b9e128e4bbeafd020ef0c2c6d93",
            "value": 0
          }
        },
        "2e84f7163cc940e18015881a354ff3ca": {
          "model_module": "@jupyter-widgets/controls",
          "model_name": "HTMLModel",
          "model_module_version": "1.5.0",
          "state": {
            "_dom_classes": [],
            "_model_module": "@jupyter-widgets/controls",
            "_model_module_version": "1.5.0",
            "_model_name": "HTMLModel",
            "_view_count": null,
            "_view_module": "@jupyter-widgets/controls",
            "_view_module_version": "1.5.0",
            "_view_name": "HTMLView",
            "description": "",
            "description_tooltip": null,
            "layout": "IPY_MODEL_ebce37a0be7648e496c01bde5786fb5b",
            "placeholder": "​",
            "style": "IPY_MODEL_aedbf3e9e5a74c6c82c98db80fbf9cfa",
            "value": " 0/0 [00:00&lt;?, ?it/s]"
          }
        },
        "caf6527df78341c4946432f1f236b39f": {
          "model_module": "@jupyter-widgets/base",
          "model_name": "LayoutModel",
          "model_module_version": "1.2.0",
          "state": {
            "_model_module": "@jupyter-widgets/base",
            "_model_module_version": "1.2.0",
            "_model_name": "LayoutModel",
            "_view_count": null,
            "_view_module": "@jupyter-widgets/base",
            "_view_module_version": "1.2.0",
            "_view_name": "LayoutView",
            "align_content": null,
            "align_items": null,
            "align_self": null,
            "border": null,
            "bottom": null,
            "display": null,
            "flex": null,
            "flex_flow": null,
            "grid_area": null,
            "grid_auto_columns": null,
            "grid_auto_flow": null,
            "grid_auto_rows": null,
            "grid_column": null,
            "grid_gap": null,
            "grid_row": null,
            "grid_template_areas": null,
            "grid_template_columns": null,
            "grid_template_rows": null,
            "height": null,
            "justify_content": null,
            "justify_items": null,
            "left": null,
            "margin": null,
            "max_height": null,
            "max_width": null,
            "min_height": null,
            "min_width": null,
            "object_fit": null,
            "object_position": null,
            "order": null,
            "overflow": null,
            "overflow_x": null,
            "overflow_y": null,
            "padding": null,
            "right": null,
            "top": null,
            "visibility": null,
            "width": null
          }
        },
        "4204ee00957746b5b0bb1373d60ac3b4": {
          "model_module": "@jupyter-widgets/base",
          "model_name": "LayoutModel",
          "model_module_version": "1.2.0",
          "state": {
            "_model_module": "@jupyter-widgets/base",
            "_model_module_version": "1.2.0",
            "_model_name": "LayoutModel",
            "_view_count": null,
            "_view_module": "@jupyter-widgets/base",
            "_view_module_version": "1.2.0",
            "_view_name": "LayoutView",
            "align_content": null,
            "align_items": null,
            "align_self": null,
            "border": null,
            "bottom": null,
            "display": null,
            "flex": null,
            "flex_flow": null,
            "grid_area": null,
            "grid_auto_columns": null,
            "grid_auto_flow": null,
            "grid_auto_rows": null,
            "grid_column": null,
            "grid_gap": null,
            "grid_row": null,
            "grid_template_areas": null,
            "grid_template_columns": null,
            "grid_template_rows": null,
            "height": null,
            "justify_content": null,
            "justify_items": null,
            "left": null,
            "margin": null,
            "max_height": null,
            "max_width": null,
            "min_height": null,
            "min_width": null,
            "object_fit": null,
            "object_position": null,
            "order": null,
            "overflow": null,
            "overflow_x": null,
            "overflow_y": null,
            "padding": null,
            "right": null,
            "top": null,
            "visibility": null,
            "width": null
          }
        },
        "1b7d5a7e6fa14a3896edd9187d670aee": {
          "model_module": "@jupyter-widgets/controls",
          "model_name": "DescriptionStyleModel",
          "model_module_version": "1.5.0",
          "state": {
            "_model_module": "@jupyter-widgets/controls",
            "_model_module_version": "1.5.0",
            "_model_name": "DescriptionStyleModel",
            "_view_count": null,
            "_view_module": "@jupyter-widgets/base",
            "_view_module_version": "1.2.0",
            "_view_name": "StyleView",
            "description_width": ""
          }
        },
        "da8f87a87f9d43c7ad920e9a4010008f": {
          "model_module": "@jupyter-widgets/base",
          "model_name": "LayoutModel",
          "model_module_version": "1.2.0",
          "state": {
            "_model_module": "@jupyter-widgets/base",
            "_model_module_version": "1.2.0",
            "_model_name": "LayoutModel",
            "_view_count": null,
            "_view_module": "@jupyter-widgets/base",
            "_view_module_version": "1.2.0",
            "_view_name": "LayoutView",
            "align_content": null,
            "align_items": null,
            "align_self": null,
            "border": null,
            "bottom": null,
            "display": null,
            "flex": null,
            "flex_flow": null,
            "grid_area": null,
            "grid_auto_columns": null,
            "grid_auto_flow": null,
            "grid_auto_rows": null,
            "grid_column": null,
            "grid_gap": null,
            "grid_row": null,
            "grid_template_areas": null,
            "grid_template_columns": null,
            "grid_template_rows": null,
            "height": null,
            "justify_content": null,
            "justify_items": null,
            "left": null,
            "margin": null,
            "max_height": null,
            "max_width": null,
            "min_height": null,
            "min_width": null,
            "object_fit": null,
            "object_position": null,
            "order": null,
            "overflow": null,
            "overflow_x": null,
            "overflow_y": null,
            "padding": null,
            "right": null,
            "top": null,
            "visibility": null,
            "width": "20px"
          }
        },
        "9af67b9e128e4bbeafd020ef0c2c6d93": {
          "model_module": "@jupyter-widgets/controls",
          "model_name": "ProgressStyleModel",
          "model_module_version": "1.5.0",
          "state": {
            "_model_module": "@jupyter-widgets/controls",
            "_model_module_version": "1.5.0",
            "_model_name": "ProgressStyleModel",
            "_view_count": null,
            "_view_module": "@jupyter-widgets/base",
            "_view_module_version": "1.2.0",
            "_view_name": "StyleView",
            "bar_color": null,
            "description_width": ""
          }
        },
        "ebce37a0be7648e496c01bde5786fb5b": {
          "model_module": "@jupyter-widgets/base",
          "model_name": "LayoutModel",
          "model_module_version": "1.2.0",
          "state": {
            "_model_module": "@jupyter-widgets/base",
            "_model_module_version": "1.2.0",
            "_model_name": "LayoutModel",
            "_view_count": null,
            "_view_module": "@jupyter-widgets/base",
            "_view_module_version": "1.2.0",
            "_view_name": "LayoutView",
            "align_content": null,
            "align_items": null,
            "align_self": null,
            "border": null,
            "bottom": null,
            "display": null,
            "flex": null,
            "flex_flow": null,
            "grid_area": null,
            "grid_auto_columns": null,
            "grid_auto_flow": null,
            "grid_auto_rows": null,
            "grid_column": null,
            "grid_gap": null,
            "grid_row": null,
            "grid_template_areas": null,
            "grid_template_columns": null,
            "grid_template_rows": null,
            "height": null,
            "justify_content": null,
            "justify_items": null,
            "left": null,
            "margin": null,
            "max_height": null,
            "max_width": null,
            "min_height": null,
            "min_width": null,
            "object_fit": null,
            "object_position": null,
            "order": null,
            "overflow": null,
            "overflow_x": null,
            "overflow_y": null,
            "padding": null,
            "right": null,
            "top": null,
            "visibility": null,
            "width": null
          }
        },
        "aedbf3e9e5a74c6c82c98db80fbf9cfa": {
          "model_module": "@jupyter-widgets/controls",
          "model_name": "DescriptionStyleModel",
          "model_module_version": "1.5.0",
          "state": {
            "_model_module": "@jupyter-widgets/controls",
            "_model_module_version": "1.5.0",
            "_model_name": "DescriptionStyleModel",
            "_view_count": null,
            "_view_module": "@jupyter-widgets/base",
            "_view_module_version": "1.2.0",
            "_view_name": "StyleView",
            "description_width": ""
          }
        }
      }
    }
  },
  "nbformat": 4,
  "nbformat_minor": 0
}